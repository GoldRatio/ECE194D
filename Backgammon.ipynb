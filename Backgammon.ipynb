{
 "cells": [
  {
   "attachments": {
    "image.png": {
     "image/png": "[encoded data removed]"
    }
   },
   "cell_type": "markdown",
   "metadata": {},
   "source": [
    "# Backgammon \n",
    "Group Members: Anshuman, Frank, Phillip\n",
    "\n",
    "\n",
    "We will be analyzing the final stage of the game of Backgammon as can be seen in the following Image\n",
    "\n",
    "![image.png](attachment:image.png)\n",
    "\n",
    "\n",
    "\n",
    "To optimize expected value of steps:\n",
    "follow policy $$\\pi(s) = \\text{argmax}_aq(s,a)$$"
   ]
  },
  {
   "attachments": {},
   "cell_type": "markdown",
   "metadata": {},
   "source": [
    "### A. Set up as a DP problem\n",
    "$$V(s) = \\max_{a\\in A(s)}\\left\\{r(s,a)+\\sum_{s'\\in T(s,a)}p(s'|s,a)V(s')\\right\\}$$"
   ]
  },
  {
   "attachments": {},
   "cell_type": "markdown",
   "metadata": {},
   "source": [
    "STATES: (col1, col2, col3, col4, col5, col6, dice1, dice2)\\\n",
    "ACTIONS: (col, dest) x2\\\n",
    "TRANSITIONS: We make the moves from action, then any combination of dice\\\n",
    "REWARDS: -1 if not terminal state, 100 for terminal"
   ]
  },
  {
   "cell_type": "code",
   "execution_count": 2,
   "metadata": {},
   "outputs": [],
   "source": [
    "import numpy\n",
    "import matplotlib\n",
    "import random\n",
    "from tqdm import tqdm\n",
    "\n",
    "beginning_state = [1,3,1,0,1,2]\n",
    "curr_state = beginning_state\n",
    "\n",
    "roll = lambda:random.randint(1,6)\n",
    "\n",
    "def T(s,a):\n",
    "    *cols, _, _ = s\n",
    "    cols = [None]+cols\n",
    "    for action in a:\n",
    "        cols = _updateCols(cols, action)\n",
    "    return [tuple([*cols[1:],d1,d2]) for d1 in range(1,7) for d2 in range(1,7)]\n",
    "\n",
    "def r(s,a):\n",
    "    return -1\n",
    "    # if sum(s[0:-2])==0:\n",
    "    #     return 100\n",
    "    # else:\n",
    "    #     return -1\n",
    "\n",
    "# if Dice >= maxColVal then it can move any piece home\n",
    "# else it can move any piece, foward \"Dice\" places forward (unless it will make it home)\n",
    "\n",
    "def _A1dice(cols, dice):\n",
    "    # actions given one dice\n",
    "    if sum(cols[1:]) == 0:\n",
    "        return [None]\n",
    "    leftmost = 6\n",
    "    while cols[leftmost]==0:\n",
    "        leftmost-=1\n",
    "    \n",
    "    if dice > leftmost:\n",
    "        return [(i, 0) for i in range(1, 7) if cols[i]]\n",
    "    return [(i, max(i-dice,0)) for i in range(dice,7) if cols[i]]\n",
    "    \n",
    "def _updateCols(cols, a1):\n",
    "    if a1 == None:\n",
    "        return tuple(cols)\n",
    "    new_cols = list(cols)\n",
    "    col, dest = a1\n",
    "    new_cols[col]-=1\n",
    "    if dest:\n",
    "        new_cols[dest]+=1\n",
    "    return tuple(new_cols)\n",
    "\n",
    "def A(s):\n",
    "    # Get actions given state s\n",
    "    *cols, d1, d2 = [None] + list(s)\n",
    "    possibleActions = set()\n",
    "\n",
    "    for a1 in _A1dice(cols, d1):\n",
    "        ncols = _updateCols(cols, a1)\n",
    "        for a2 in _A1dice(ncols, d2):\n",
    "            possibleActions |= {(a1,a2)}\n",
    "    for a1 in _A1dice(cols, d2):\n",
    "        ncols = _updateCols(cols, a1)\n",
    "        for a2 in _A1dice(ncols, d1):\n",
    "            possibleActions |= {(a1,a2)}\n",
    "\n",
    "    return tuple(possibleActions)\n",
    "    # print(f\"{_A1dice(cols,d1)=}\")\n",
    "    # print(f\"{_A1dice(cols,d2)=}\")\n",
    "\n",
    "def value_iteration(V, iterations = 1000, threshold = 0):\n",
    "    \"\"\"\n",
    "    s: state, form (col1,col2,col3,col4,col5,col6,dice1,dice2)\n",
    "    a: action, form ((col, destination),(col, destination))\n",
    "    \"\"\"\n",
    "    def q(s,a):\n",
    "        # if sum(s[:-2]) == 0:\n",
    "        #     return r()\n",
    "        states = T(s,a)\n",
    "        val = 0\n",
    "        for s in states:\n",
    "            val += V[s]\n",
    "        return (val / len(states)) + r(s,a)\n",
    "    changes = threshold\n",
    "    prog = tqdm(range(iterations))\n",
    "    for it in prog:\n",
    "        changes = 0\n",
    "        for s in V:\n",
    "            if sum(s[:-2]) == 0:\n",
    "                V[s] = 100\n",
    "            else:\n",
    "                old = V[s]\n",
    "                V[s] = max(q(s,a) for a in A(s))\n",
    "                changes += abs(V[s]-old)\n",
    "        prog.set_description(f\"{changes=}\")\n",
    "        if changes <= threshold:\n",
    "            break\n",
    "    policy = {}\n",
    "    for s in V:\n",
    "        action, val = None, float('-inf')\n",
    "        for a in A(s):\n",
    "            if q(s,a) > val:\n",
    "                val = q(s,a)\n",
    "                action = a\n",
    "        policy[s] = action\n",
    "    return policy"
   ]
  },
  {
   "attachments": {},
   "cell_type": "markdown",
   "metadata": {},
   "source": [
    "### Creating all possible states"
   ]
  },
  {
   "cell_type": "code",
   "execution_count": 3,
   "metadata": {},
   "outputs": [],
   "source": [
    "V = {}\n",
    "possible_cols = set()\n",
    "\n",
    "pieces = 8\n",
    "for c1 in range(0,pieces+1):\n",
    "\tfor c2 in range(0,pieces+1-c1):\n",
    "\t\tfor c3 in range(0,pieces+1-c1-c2):\n",
    "\t\t\tfor c4 in range(0,pieces+1-c1-c2-c3):\n",
    "\t\t\t\tfor c5 in range(0,pieces+1-c1-c2-c3-c4):\n",
    "\t\t\t\t\tfor c6 in range(0,pieces+1-c1-c2-c3-c4-c5):\n",
    "\t\t\t\t\t\tpossible_cols|={(c1,c2,c3,c4,c5,c6)}\n",
    "\n",
    "for col in possible_cols:\n",
    "\tfor d1 in range(1,7):\n",
    "\t\tfor d2 in range(1,7):\n",
    "\t\t\tV[tuple(list(col)+[d1,d2])]=0"
   ]
  },
  {
   "attachments": {},
   "cell_type": "markdown",
   "metadata": {},
   "source": [
    "Doing Value Iteration"
   ]
  },
  {
   "cell_type": "code",
   "execution_count": 4,
   "metadata": {},
   "outputs": [
    {
     "name": "stderr",
     "output_type": "stream",
     "text": [
      "changes=0.0:   0%|          | 14/5000 [02:33<15:13:59, 11.00s/it]                   \n"
     ]
    }
   ],
   "source": [
    "policy = value_iteration(V, iterations = 5000, threshold = 0)"
   ]
  },
  {
   "attachments": {},
   "cell_type": "markdown",
   "metadata": {},
   "source": [
    "### Visualization and simulations"
   ]
  },
  {
   "cell_type": "code",
   "execution_count": 9,
   "metadata": {},
   "outputs": [],
   "source": [
    "def visualize(policy, state):\n",
    "\taction = policy[state]\n",
    "\tfor y in range(8,-1,-1):\n",
    "\t\tfor i in range(6,0,-1):\n",
    "\t\t\tprint(\"O\" if state[i]-1>=y else \" \",end=\" \")\n",
    "\t\tprint()\n",
    "\tprint(f\"6 5 4 3 2 1\\t  Dice rolls: {state[-2]},{state[-1]}\")\n",
    "    \n",
    "    # for a in action\n",
    "\tfor src, dest in action:\n",
    "\t\tprint(f\"Move from {src} to {dest}\")"
   ]
  },
  {
   "cell_type": "code",
   "execution_count": 10,
   "metadata": {},
   "outputs": [
    {
     "name": "stdout",
     "output_type": "stream",
     "text": [
      "            \n",
      "            \n",
      "            \n",
      "            \n",
      "            \n",
      "            \n",
      "            \n",
      "O O O       \n",
      "O O O O O   \n",
      "6 5 4 3 2 1\t  Dice rolls: 2,4\n",
      "Move from 4 to 0\n",
      "Move from 6 to 4\n"
     ]
    }
   ],
   "source": [
    "visualize(policy, random.choice(list(policy.keys())))"
   ]
  }
 ],
 "metadata": {
  "kernelspec": {
   "display_name": "Python 3",
   "language": "python",
   "name": "python3"
  },
  "language_info": {
   "codemirror_mode": {
    "name": "ipython",
    "version": 3
   },
   "file_extension": ".py",
   "mimetype": "text/x-python",
   "name": "python",
   "nbconvert_exporter": "python",
   "pygments_lexer": "ipython3",
   "version": "3.9.13"
  },
  "orig_nbformat": 4
 },
 "nbformat": 4,
 "nbformat_minor": 2
}
