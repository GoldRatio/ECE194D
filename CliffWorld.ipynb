{
 "cells": [
  {
   "attachments": {
    "image.png": {
     "image/png": "[encoded data removed]"
    }
   },
   "cell_type": "markdown",
   "metadata": {},
   "source": [
    "# CliffWorld\n",
    "\n",
    "Problem 1: A programming problem on tabular RL methods (30 points)\n",
    "In this problem, you will implement Q-learning and SARSA on a Cliff Walking problem and compare\n",
    "their performance.\n",
    "\n",
    "Problem statement: Cliffworld! This is a gridworld with a cliff. The description can be found\n",
    "in Sutton and Barto’s Example 6.6. It is a useful example to gain intuition into how Q-learning and\n",
    "SARSA’s approach to learning differs from each other.\n",
    "\n",
    "![image.png](attachment:image.png)"
   ]
  },
  {
   "cell_type": "code",
   "execution_count": null,
   "metadata": {},
   "outputs": [],
   "source": [
    "def getTransitions(width = 6,height = 4):\n",
    "\tpos = {}\n",
    "\tind=0\n",
    "\tfor y in range(height):\n",
    "\t\tfor x in range(width):\n",
    "\t\t\tpos[complex(x,y)]=ind\n",
    "\t\t\tind+=1\n",
    "\ttransitions = {}\n",
    "\tcliffs = list(range(1,width-1))\n",
    "\t\"\"\"\n",
    "\t8 9 1011\n",
    "\t4 5 6 7\n",
    "\t0 1 2 3 \n",
    "\t\"\"\"\n",
    "\n",
    "\n",
    "\tfor y in range(height):\n",
    "\t\tfor x in range(width):\n",
    "\t\t\t# UDLR\n",
    "\t\t\ttrs = []\n",
    "\t\t\tpoint = complex(x,y)\n",
    "\t\t\tfor delta in (1j, -1j, -1, 1):\n",
    "\t\t\t\ttrs.append(pos[point+delta]if point+delta in pos else pos[point])\n",
    "\t\t\ttransitions[pos[point]] = trs if x not in cliffs or y != 0 else [0,0,0,0]\n",
    "\ttransitions[pos[complex(width-1,0)]] = [pos[complex(width-1,0)]]*4\n",
    "\n",
    "\treturn [transitions[i] for i in range(len(transitions))]"
   ]
  },
  {
   "cell_type": "code",
   "execution_count": null,
   "metadata": {},
   "outputs": [],
   "source": [
    "import numpy as np\n",
    "import random \n",
    "import matplotlib.pyplot as plt"
   ]
  },
  {
   "attachments": {},
   "cell_type": "markdown",
   "metadata": {},
   "source": [
    "We're making the world half the size since we don't want to write out all the states. We should still see the same results though"
   ]
  },
  {
   "cell_type": "code",
   "execution_count": null,
   "metadata": {},
   "outputs": [],
   "source": [
    "# UDLR\n",
    "transitions = getTransitions(12,4)"
   ]
  },
  {
   "cell_type": "code",
   "execution_count": null,
   "metadata": {},
   "outputs": [],
   "source": [
    "# Reward Function\n",
    "def r(s):\n",
    "    if s in (1,2,3,4,5,6,7,8,9,10):\n",
    "        return -100\n",
    "    else:\n",
    "        return -1\n"
   ]
  },
  {
   "cell_type": "code",
   "execution_count": null,
   "metadata": {},
   "outputs": [],
   "source": [
    "def moving_average(data, num_points=3):\n",
    "    average_arr = []\n",
    "    for i in range(num_points, len(data) -num_points):\n",
    "        average_arr.append(sum(data[i:i+num_points])/num_points)\n",
    "    return average_arr"
   ]
  },
  {
   "cell_type": "code",
   "execution_count": null,
   "metadata": {},
   "outputs": [],
   "source": [
    "def egreedy_policy(q_values, state, epsilon=0.1):  \n",
    "    if np.random.random() < epsilon:\n",
    "        return np.random.choice(4)\n",
    "    else:\n",
    "        return np.argmax(q_values[state])"
   ]
  },
  {
   "cell_type": "code",
   "execution_count": null,
   "metadata": {},
   "outputs": [],
   "source": [
    "def Q_Learning(num_episodes, num_states = 48, num_actions = 4, gamma = 1, alpha = 0.5):\n",
    "    q_val = np.zeros((num_states, num_actions))\n",
    "    episode_rewards = []\n",
    "    for _ in range(num_episodes):\n",
    "        episode_reward = 0\n",
    "        state = 0 # Initialize S\n",
    "        while state != 11: \n",
    "            action = egreedy_policy(q_val, state, epsilon = 0.00) #Choose Action from state based on policy\n",
    "            next_state = transitions[state][action] #Take Action A, Observe R, S'\n",
    "            q_val[state][action] = q_val[state][action] + alpha * (r(next_state) + gamma*np.max(q_val[next_state]) - q_val[state][action]) \n",
    "            episode_reward += r(next_state)\n",
    "            state = next_state\n",
    "        episode_rewards.append(episode_reward)\n",
    "    return q_val, episode_rewards"
   ]
  },
  {
   "cell_type": "code",
   "execution_count": null,
   "metadata": {},
   "outputs": [],
   "source": [
    "def sarsa(num_episodes, num_states = 48, num_actions = 4, gamma = 1, alpha = 0.5):\n",
    "    q_val = np.zeros((num_states, num_actions))\n",
    "    episode_rewards = []\n",
    "    for _ in range(num_episodes):\n",
    "        episode_reward = 0\n",
    "        state = 0 # Initialize S\n",
    "        action = egreedy_policy(q_val, state, epsilon = 0.00) #Choose Action from state based on policy\n",
    "\n",
    "        while state != 11: \n",
    "            next_state = transitions[state][action] #Take Action A, Observe R, S'\n",
    "            next_action = egreedy_policy(q_val, next_state, epsilon = 0.01) #Choose Action from state based on policy\n",
    "            q_val[state][action] = q_val[state][action] + alpha*( r(next_state) + gamma*q_val[next_state][next_action] - q_val[state][action]) \n",
    "            episode_reward += r(next_state)\n",
    "            state = next_state\n",
    "            action = next_action\n",
    "            \n",
    "        episode_rewards.append(episode_reward)\n",
    "    return q_val, episode_rewards"
   ]
  },
  {
   "cell_type": "code",
   "execution_count": null,
   "metadata": {},
   "outputs": [],
   "source": [
    "num_states = 48\n",
    "num_actions = 4 \n",
    "gamma = 1\n",
    "alpha = 1\n",
    "\n",
    "q_val, Q_rewards = Q_Learning(500)\n",
    "SARSA_val, SARSA_rewards = sarsa(500)\n",
    "\n",
    "dir = ['^', 'v', '<', '>']\n",
    "\n",
    "print(\"------QLearn------\")\n",
    "for i in reversed(range(4)):\n",
    "    for j in range(12):\n",
    "        index = i * 12 + j\n",
    "        print(dir[np.argmax(q_val[index])],end = ' ')\n",
    "    print()\n",
    "\n",
    "print(\"------SARSA------\")\n",
    "for i in reversed(range(4)):\n",
    "    for j in range(12):\n",
    "        index = i * 12 + j\n",
    "        print(dir[np.argmax(SARSA_val[index])],end = ' ')\n",
    "    print()"
   ]
  },
  {
   "cell_type": "code",
   "execution_count": null,
   "metadata": {},
   "outputs": [],
   "source": [
    "avg_points = 1\n",
    "Q_average = moving_average(Q_rewards, avg_points)\n",
    "plt.plot(Q_average)\n",
    "SARSA_average = moving_average(SARSA_rewards, avg_points)\n",
    "plt.plot(SARSA_average)\n",
    "plt.legend([\"Q Learning\", \"SARSA\"])\n",
    "plt.show()"
   ]
  }
 ],
 "metadata": {
  "kernelspec": {
   "display_name": "Python 3",
   "language": "python",
   "name": "python3"
  },
  "language_info": {
   "codemirror_mode": {
    "name": "ipython",
    "version": 3
   },
   "file_extension": ".py",
   "mimetype": "text/x-python",
   "name": "python",
   "nbconvert_exporter": "python",
   "pygments_lexer": "ipython3",
   "version": "3.9.13"
  },
  "orig_nbformat": 4
 },
 "nbformat": 4,
 "nbformat_minor": 2
}
