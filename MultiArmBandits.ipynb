{
 "cells": [
  {
   "attachments": {},
   "cell_type": "markdown",
   "metadata": {},
   "source": [
    "# Multi Armed Bandits Implementations\n",
    "Will be exploring cases of explore first greedy, epsilon greedy, UCB, and gradient bandit"
   ]
  },
  {
   "attachments": {},
   "cell_type": "markdown",
   "metadata": {},
   "source": [
    "## File and Data setup"
   ]
  },
  {
   "cell_type": "code",
   "execution_count": 98,
   "metadata": {
    "dotnet_interactive": {
     "language": "csharp"
    },
    "polyglot_notebook": {
     "kernelName": "csharp"
    }
   },
   "outputs": [],
   "source": [
    "import numpy as np\n",
    "import random \n",
    "import matplotlib.pyplot as plt\n",
    "mu, sigma, num_arms = 0, 1, 10\n",
    "T = 1000\n",
    "arm_means = np.random.normal(mu, sigma, num_arms)\n",
    "\n",
    "# roll T amount of times\n",
    "# Format: arms[r][a] where (r =  roll #) and (a = arm #) \n",
    "arms = np.zeros(num_arms * T).reshape(T, num_arms)\n",
    "for i in range(T):\n",
    "    arms[i] = np.random.normal(arm_means,1,num_arms) \n",
    "\n",
    "# Calculate Ideal\n",
    "ideal = []\n",
    "ideal.append(max(arms[0]))\n",
    "for i in range(1,T):\n",
    "    ideal.append(max(arms[i]) + ideal[i - 1])"
   ]
  },
  {
   "attachments": {},
   "cell_type": "markdown",
   "metadata": {},
   "source": [
    "## Explore First Greedy Data Collection"
   ]
  },
  {
   "cell_type": "code",
   "execution_count": 188,
   "metadata": {},
   "outputs": [
    {
     "name": "stdout",
     "output_type": "stream",
     "text": [
      "[ 918.6053383   906.28761331  899.46316847 1121.43778792 1665.65051889\n",
      " 1202.6694214  1191.20385956 1633.90146588 1621.21265836 1064.93592984\n",
      "  860.73295908 1585.38203193 1562.23948964 1042.06035162 1135.64642677\n",
      " 1121.38007022 1519.75224506 1503.55406367 1491.62165532 1471.49878703\n",
      " 1442.83783133 1426.32624881 1403.61439393 1391.11163107 1388.89056196]\n",
      "2471.6769594673915\n"
     ]
    }
   ],
   "source": [
    "# Calculate Explore first Greedy\n",
    "N = 25\n",
    "greedy_arr = np.zeros(N*T).reshape(N,T)\n",
    "\n",
    "for exploreAmount in range(1,N + 1):\n",
    "    curr_greedy = np.zeros(T)\n",
    "    explore_arr = np.zeros(num_arms * exploreAmount).reshape(num_arms,exploreAmount)\n",
    "    \n",
    "    for a in range(num_arms):\n",
    "        for i in range(exploreAmount):\n",
    "            explore_arr[a][i] = arms[a * exploreAmount + i][a]\n",
    "            curr_greedy[a * exploreAmount + i] = arms[a * exploreAmount + i][a]\n",
    "    \n",
    "    arm_sample_mean = np.zeros(num_arms)\n",
    "    arm_sample_mean =  np.mean(explore_arr, axis= 1)\n",
    "    best = arm_sample_mean.argmax()\n",
    "    for i in range(exploreAmount * num_arms, T):\n",
    "        curr_greedy[i] = arms[i][best]\n",
    "    \n",
    "    greedy_arr[exploreAmount-1] = curr_greedy \n",
    "\n",
    "greedy_perf = np.zeros(N)\n",
    "greedy_perf = np.sum(greedy_arr, axis=1)\n",
    "\n",
    "print(greedy_perf)\n",
    "print(ideal[T-1])"
   ]
  },
  {
   "attachments": {},
   "cell_type": "markdown",
   "metadata": {},
   "source": [
    "## Explore First Greedy Graphing"
   ]
  },
  {
   "cell_type": "code",
   "execution_count": 189,
   "metadata": {},
   "outputs": [],
   "source": [
    "# plt.plot( )\n",
    "# plt.title(\"Regret vs. N\")\n",
    "# plt.xlabel(\"N\")\n",
    "# plt.ylabel(\"Regret\")"
   ]
  },
  {
   "attachments": {},
   "cell_type": "markdown",
   "metadata": {},
   "source": [
    "## Epsilon Greedy Data Collection"
   ]
  },
  {
   "cell_type": "code",
   "execution_count": 193,
   "metadata": {},
   "outputs": [
    {
     "name": "stdout",
     "output_type": "stream",
     "text": [
      "1490.8009799984598\n",
      "2471.6769594673915\n"
     ]
    }
   ],
   "source": [
    "# Calculate E - Greedy\n",
    "E = 0.1\n",
    "exploreAmount = 10\n",
    "curr_greedy = np.zeros(T)\n",
    "\n",
    "# print(arms[:10])\n",
    "explore_arr = np.zeros(num_arms * exploreAmount).reshape(num_arms,exploreAmount)\n",
    "for a in range(num_arms):\n",
    "    for i in range(exploreAmount):\n",
    "        explore_arr[a][i] = arms[a * exploreAmount + i][a]\n",
    "        curr_greedy[a * exploreAmount + i] = arms[a * exploreAmount + i][a]\n",
    "\n",
    "arm_sample_mean = np.zeros(num_arms * 2).reshape(num_arms,2)\n",
    "arm_sample_mean[:,0] =  np.mean(explore_arr, axis= 1)\n",
    "arm_sample_mean[:,1] = np.full(num_arms, exploreAmount)\n",
    "\n",
    "\n",
    "for i in range(num_arms * exploreAmount, T):\n",
    "    prob = random.random()\n",
    "    if prob >= E:\n",
    "        arm = arm_sample_mean[:,0].argmax()\n",
    "    else:\n",
    "        # Explore\n",
    "        arm = random.randint(0,9)\n",
    "    \n",
    "    curr_greedy[i] = arms[i][arm]\n",
    "    old_sample_mean = arm_sample_mean[arm][0]\n",
    "    old_sample_amount = arm_sample_mean[arm][1]\n",
    "    arm_sample_mean[arm][0] = old_sample_mean * old_sample_amount / (old_sample_amount + 1) + 1 / (old_sample_amount) * arms[i][arm]\n",
    "    arm_sample_mean[arm][1] += 1\n",
    "\n",
    "E_means_perf = np.sum(curr_greedy)\n",
    "\n",
    "print(E_means_perf)\n",
    "print(ideal[T - 1])\n",
    "\n"
   ]
  },
  {
   "cell_type": "code",
   "execution_count": 194,
   "metadata": {},
   "outputs": [],
   "source": [
    "# Calculate UCB"
   ]
  },
  {
   "cell_type": "code",
   "execution_count": 195,
   "metadata": {},
   "outputs": [],
   "source": [
    "# Calculate Gradient"
   ]
  }
 ],
 "metadata": {
  "kernelspec": {
   "display_name": "Python 3",
   "language": "python",
   "name": "python3"
  },
  "language_info": {
   "codemirror_mode": {
    "name": "ipython",
    "version": 3
   },
   "file_extension": ".py",
   "mimetype": "text/x-python",
   "name": "python",
   "nbconvert_exporter": "python",
   "pygments_lexer": "ipython3",
   "version": "3.7.9"
  },
  "orig_nbformat": 4
 },
 "nbformat": 4,
 "nbformat_minor": 2
}
